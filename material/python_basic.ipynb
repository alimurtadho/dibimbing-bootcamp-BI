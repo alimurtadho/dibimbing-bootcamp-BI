{
  "nbformat": 4,
  "nbformat_minor": 0,
  "metadata": {
    "colab": {
      "provenance": [],
      "collapsed_sections": [
        "fLmk4oTgQzpJ",
        "fAtRXq1YWvxo",
        "RiUF2ldohIIc",
        "p4o9gTAQhPuj",
        "_3OUmfInk4QI",
        "LRNrW3b82EMp",
        "L_j9wFOM2EMt",
        "bVHt28SJ2ENR",
        "qX5USXut2ENs",
        "V8GNwtb32EON",
        "4t9fMgBJ2EOp",
        "i8k1vyhz2ERJ",
        "RSc65az62ERK",
        "F86Y15cZ2ER3",
        "XeRFNiI82ES0",
        "aBOLVSKu2EWR",
        "LssamJQs2EWg",
        "xugcnnAu2EWz",
        "douFcqUCUfzo",
        "4NGQV1hUyCiU",
        "G4WkAFpcUf0F",
        "BRJTmIzhUf0p",
        "yDMsM4lK2EVj",
        "-bWzivyx2EVk",
        "U_6X6BMh2EVs",
        "7AtWbCEK2EV2",
        "pyI8LINw0i0P"
      ],
      "toc_visible": true
    },
    "kernelspec": {
      "name": "python3",
      "display_name": "Python 3"
    },
    "language_info": {
      "name": "python"
    }
  },
  "cells": [
    {
      "cell_type": "markdown",
      "metadata": {
        "id": "fLmk4oTgQzpJ"
      },
      "source": [
        "# 1. Basic Python"
      ]
    },
    {
      "cell_type": "markdown",
      "metadata": {
        "id": "fAtRXq1YWvxo"
      },
      "source": [
        "## 1.1. Variabel"
      ]
    },
    {
      "cell_type": "markdown",
      "metadata": {
        "id": "JP1EAWOCAwU3"
      },
      "source": [
        "1. Nama variabel tidak boleh diawali oleh angka.\n",
        "2. Nama variabel hanya bisa terdiri dari karakter alpha-numeric dan underscore (A-z, 0-9, dan _ )\n",
        "3. Nama variabel bersifat case sensitive. Artinya variabel nama berbeda dengan Nama atau naMA\n",
        "4. Nama variabel tidak boleh reserved keywords https://realpython.com/lessons/reserved-keywords/"
      ]
    },
    {
      "cell_type": "code",
      "metadata": {
        "id": "rXxbZgr3QkkJ",
        "colab": {
          "base_uri": "https://localhost:8080/"
        },
        "outputId": "58a3036a-f4fa-4461-ef96-4213188bb8ef"
      },
      "source": [
        "# Menentukan nama variabel lalu mengisikan sebuah nilai\n",
        "variabel = \"Hello World!\"\n",
        "print(variabel)"
      ],
      "execution_count": null,
      "outputs": [
        {
          "output_type": "stream",
          "name": "stdout",
          "text": [
            "Hello World!\n"
          ]
        }
      ]
    },
    {
      "cell_type": "code",
      "metadata": {
        "id": "lSVdcW74VDlf",
        "colab": {
          "base_uri": "https://localhost:8080/"
        },
        "outputId": "97c262ba-a370-4f46-b256-7b810adf89a0"
      },
      "source": [
        "# TO DO: Buat variabel dan isikan nama kalian\n",
        "namaku = \"ali\"\n",
        "print(\"perkenalkan saya: \" + namaku)"
      ],
      "execution_count": null,
      "outputs": [
        {
          "output_type": "stream",
          "name": "stdout",
          "text": [
            "perkenalkan saya: ali\n"
          ]
        }
      ]
    },
    {
      "cell_type": "code",
      "metadata": {
        "id": "a9ALUvL3efQq"
      },
      "source": [
        "# TO DO: Pilih nama variabel yang benar# @param [\"2nama\", \"nama2\", \"lambda\"]"
      ],
      "execution_count": null,
      "outputs": []
    },
    {
      "cell_type": "code",
      "metadata": {
        "id": "ht7gdukycosA"
      },
      "source": [
        "nama_var = \"lambda\" #@param [\"2nama\", \"nama2\", \"lambda\"]\n",
        "\n"
      ],
      "execution_count": null,
      "outputs": []
    },
    {
      "cell_type": "code",
      "metadata": {
        "id": "jvLwMu1Id9SZ",
        "colab": {
          "base_uri": "https://localhost:8080/"
        },
        "outputId": "83586248-a1c0-457f-aba5-f7e206f65cae"
      },
      "source": [
        "#@title\n",
        "if nama_var == 'nama2':\n",
        "  print('yeay benar!')\n",
        "else:\n",
        "  print('yah salah')"
      ],
      "execution_count": null,
      "outputs": [
        {
          "output_type": "stream",
          "name": "stdout",
          "text": [
            "yeay benar!\n"
          ]
        }
      ]
    },
    {
      "cell_type": "markdown",
      "metadata": {
        "id": "RiUF2ldohIIc"
      },
      "source": [
        "## 1.2. Data Type"
      ]
    },
    {
      "cell_type": "markdown",
      "metadata": {
        "id": "p4o9gTAQhPuj"
      },
      "source": [
        "### 1.2.1. Numbers"
      ]
    },
    {
      "cell_type": "code",
      "metadata": {
        "id": "u4itCrmzhNvd",
        "colab": {
          "base_uri": "https://localhost:8080/"
        },
        "outputId": "94a95392-5cf9-4d0f-a666-3d39f9e715e6"
      },
      "source": [
        "# Int\n",
        "x = 1\n",
        "print(type(x))"
      ],
      "execution_count": null,
      "outputs": [
        {
          "output_type": "stream",
          "name": "stdout",
          "text": [
            "<class 'int'>\n"
          ]
        }
      ]
    },
    {
      "cell_type": "code",
      "metadata": {
        "id": "PqACMO-9iTAl",
        "colab": {
          "base_uri": "https://localhost:8080/"
        },
        "outputId": "e717ca9f-8476-456d-b63a-1765172c3041"
      },
      "source": [
        "# float\n",
        "y = 1.5\n",
        "print(type(y))"
      ],
      "execution_count": null,
      "outputs": [
        {
          "output_type": "stream",
          "name": "stdout",
          "text": [
            "<class 'float'>\n"
          ]
        }
      ]
    },
    {
      "cell_type": "code",
      "metadata": {
        "id": "m47YOzHFicEC",
        "colab": {
          "base_uri": "https://localhost:8080/"
        },
        "outputId": "2ab5e24b-a075-4542-8338-2d575330c56e"
      },
      "source": [
        "#complex\n",
        "z = 1j\n",
        "print(z)\n",
        "# print(type(z))"
      ],
      "execution_count": null,
      "outputs": [
        {
          "output_type": "stream",
          "name": "stdout",
          "text": [
            "1j\n"
          ]
        }
      ]
    },
    {
      "cell_type": "markdown",
      "metadata": {
        "id": "_3OUmfInk4QI"
      },
      "source": [
        "### 1.2.2. String (text)"
      ]
    },
    {
      "cell_type": "code",
      "metadata": {
        "id": "cS6IYiY0k8VU",
        "colab": {
          "base_uri": "https://localhost:8080/"
        },
        "outputId": "000c7a70-757b-4099-d957-5b809a475dcc"
      },
      "source": [
        "print('singlequotes n\\\n",
        "asd')"
      ],
      "execution_count": null,
      "outputs": [
        {
          "output_type": "stream",
          "name": "stdout",
          "text": [
            "singlequotes nasd\n"
          ]
        }
      ]
    },
    {
      "cell_type": "code",
      "metadata": {
        "id": "NCe-7OIik_rU",
        "colab": {
          "base_uri": "https://localhost:8080/"
        },
        "outputId": "7e81399b-d83e-4821-f5c2-ae892562a7aa"
      },
      "source": [
        "print(\"double quotes singlequotes' '\")"
      ],
      "execution_count": null,
      "outputs": [
        {
          "output_type": "stream",
          "name": "stdout",
          "text": [
            "double quotes ndan vbla1 'singlequotes' '\n"
          ]
        }
      ]
    },
    {
      "cell_type": "code",
      "metadata": {
        "id": "qVeodILolBN9",
        "colab": {
          "base_uri": "https://localhost:8080/"
        },
        "outputId": "7d32efe7-0357-493f-cfc8-5d38f75dc68a"
      },
      "source": [
        "print(\"\"\" First line\n",
        "          Second line\n",
        "      \"\"\")"
      ],
      "execution_count": null,
      "outputs": [
        {
          "output_type": "stream",
          "name": "stdout",
          "text": [
            " First line \n",
            "          Second line\n",
            "      \n"
          ]
        }
      ]
    },
    {
      "cell_type": "code",
      "metadata": {
        "id": "LcHDx8hYlKkA",
        "colab": {
          "base_uri": "https://localhost:8080/"
        },
        "outputId": "975bf3c4-cc88-4675-92d9-e5365de74219"
      },
      "source": [
        "print('First line.\\n Second line.')"
      ],
      "execution_count": null,
      "outputs": [
        {
          "output_type": "stream",
          "name": "stdout",
          "text": [
            "First line.\n",
            "Second line.\n"
          ]
        }
      ]
    },
    {
      "cell_type": "code",
      "metadata": {
        "id": "k4oy9qVXlNP2",
        "colab": {
          "base_uri": "https://localhost:8080/"
        },
        "outputId": "f9987511-7339-455e-fe63-925acfdada0a"
      },
      "source": [
        "print(r'C:\\some\\name')"
      ],
      "execution_count": null,
      "outputs": [
        {
          "output_type": "stream",
          "name": "stdout",
          "text": [
            "C:\\some\\name\n"
          ]
        }
      ]
    },
    {
      "cell_type": "code",
      "metadata": {
        "id": "8ktTDdBri_V-",
        "colab": {
          "base_uri": "https://localhost:8080/"
        },
        "outputId": "c06b827d-2c62-4620-e4a7-60b952272bd4"
      },
      "source": [
        "# sebagai kalkulator\n",
        "1+1"
      ],
      "execution_count": null,
      "outputs": [
        {
          "output_type": "execute_result",
          "data": {
            "text/plain": [
              "2"
            ]
          },
          "metadata": {},
          "execution_count": 19
        }
      ]
    },
    {
      "cell_type": "code",
      "metadata": {
        "id": "P86dUyj0kM1I"
      },
      "source": [
        "# TO DO: buat contoh operator Addition\n"
      ],
      "execution_count": null,
      "outputs": []
    },
    {
      "cell_type": "code",
      "metadata": {
        "id": "0YHNuvDw2EMu"
      },
      "source": [
        "x = 4\n",
        "y = 2"
      ],
      "execution_count": null,
      "outputs": []
    },
    {
      "cell_type": "code",
      "metadata": {
        "id": "24ekPBWC2EM3",
        "colab": {
          "base_uri": "https://localhost:8080/"
        },
        "outputId": "1fb5a6ad-3cd2-4558-9437-148b67cd45f1"
      },
      "source": [
        "# Penjumlahan\n",
        "penjumlahan = x + y\n",
        "print(penjumlahan)"
      ],
      "execution_count": null,
      "outputs": [
        {
          "output_type": "stream",
          "name": "stdout",
          "text": [
            "6\n"
          ]
        }
      ]
    },
    {
      "cell_type": "code",
      "metadata": {
        "id": "vo-jbLZH2ENA",
        "colab": {
          "base_uri": "https://localhost:8080/"
        },
        "outputId": "957dd6da-e76a-439b-bdaf-a24d0fe7163c"
      },
      "source": [
        "# Pengurangan\n",
        "pengurangan = x - y\n",
        "print(pengurangan)"
      ],
      "execution_count": null,
      "outputs": [
        {
          "output_type": "stream",
          "name": "stdout",
          "text": [
            "2\n"
          ]
        }
      ]
    },
    {
      "cell_type": "code",
      "metadata": {
        "id": "011MQ2fM2ENH",
        "colab": {
          "base_uri": "https://localhost:8080/"
        },
        "outputId": "b9c49a9b-178e-42ba-cd06-16647bd89c59"
      },
      "source": [
        "# TO DO: isilah operasi dasar aritmatika pada x dan y\n",
        "\n",
        "perkalian = x * y\n",
        "pembagian = x / y\n",
        "sisa = x % y\n",
        "# pangkat = x°°\n",
        "\n",
        "\n",
        "print(perkalian)\n",
        "print(pembagian)\n",
        "print(sisa)\n",
        "# print(pangkat)"
      ],
      "execution_count": null,
      "outputs": [
        {
          "output_type": "stream",
          "name": "stdout",
          "text": [
            "8\n",
            "2.0\n",
            "0\n"
          ]
        }
      ]
    },
    {
      "cell_type": "code",
      "metadata": {
        "id": "lYyHtWujAmS4"
      },
      "source": [],
      "execution_count": null,
      "outputs": []
    },
    {
      "cell_type": "markdown",
      "metadata": {
        "id": "LRNrW3b82EMp"
      },
      "source": [
        "## 1.3. Operators"
      ]
    },
    {
      "cell_type": "markdown",
      "metadata": {
        "id": "L_j9wFOM2EMt"
      },
      "source": [
        "### 1.3.1. Arithmetic Operators"
      ]
    },
    {
      "cell_type": "code",
      "metadata": {
        "id": "ek-u5uISApV-"
      },
      "source": [
        "x = 5\n",
        "y = 2"
      ],
      "execution_count": null,
      "outputs": []
    },
    {
      "cell_type": "code",
      "metadata": {
        "id": "IBPDwsNLApV-"
      },
      "source": [
        "# Penjumlahan\n",
        "penjumlahan = x + y\n",
        "print(penjumlahan)"
      ],
      "execution_count": null,
      "outputs": []
    },
    {
      "cell_type": "code",
      "metadata": {
        "id": "-yun41QuApV_"
      },
      "source": [
        "# Pengurangan\n",
        "pengurangan = x - y\n",
        "print(pengurangan)"
      ],
      "execution_count": null,
      "outputs": []
    },
    {
      "cell_type": "code",
      "metadata": {
        "id": "Pw6JP-fvApV_",
        "colab": {
          "base_uri": "https://localhost:8080/"
        },
        "outputId": "c7d7f92a-79f5-457d-9100-e8a2afd8ecd5"
      },
      "source": [
        "# TO DO: isilah operasi dasar aritmatika pada x dan y\n",
        "\n",
        "perkalian = None\n",
        "pembagian = None\n",
        "sisa = x % y\n",
        "pangkat = None\n",
        "\n",
        "\n",
        "print(perkalian)\n",
        "print(pembagian)\n",
        "print(sisa)\n",
        "print(pangkat)"
      ],
      "execution_count": null,
      "outputs": [
        {
          "output_type": "stream",
          "name": "stdout",
          "text": [
            "None\n",
            "None\n",
            "1\n",
            "None\n"
          ]
        }
      ]
    },
    {
      "cell_type": "markdown",
      "metadata": {
        "id": "bVHt28SJ2ENR"
      },
      "source": [
        "### 1.3.2. Comparison Operators"
      ]
    },
    {
      "cell_type": "code",
      "metadata": {
        "id": "QYmuKtim2ENU",
        "colab": {
          "base_uri": "https://localhost:8080/"
        },
        "outputId": "74ad8e6e-a12e-4cf5-b69d-87ab6026f1c8"
      },
      "source": [
        "# Lebih dari\n",
        "lebih_dari = x > y\n",
        "# print(type(lebih_dari))"
      ],
      "execution_count": null,
      "outputs": [
        {
          "output_type": "stream",
          "name": "stdout",
          "text": [
            "<class 'bool'>\n"
          ]
        }
      ]
    },
    {
      "cell_type": "code",
      "metadata": {
        "id": "c6VucIWk2ENh",
        "colab": {
          "base_uri": "https://localhost:8080/"
        },
        "outputId": "594c3508-0eae-4dd9-edc7-29c579b14b5c"
      },
      "source": [
        "# Kurang dari\n",
        "kurang_dari = y < x\n",
        "print(kurang_dari)"
      ],
      "execution_count": null,
      "outputs": [
        {
          "output_type": "stream",
          "name": "stdout",
          "text": [
            "True\n"
          ]
        }
      ]
    },
    {
      "cell_type": "code",
      "metadata": {
        "id": "ZjPSek7W2ENm",
        "colab": {
          "base_uri": "https://localhost:8080/"
        },
        "outputId": "f10928f6-d6e6-4ca9-aa70-51b04bb16cfe"
      },
      "source": [
        "# TO DO: isilah dengan menggunakan operator pembanding\n",
        "sama_dengan = x == y #false\n",
        "kurangdari_samadengan = x <= y #false\n",
        "lebihdari_samadengan = x >=y #true\n",
        "tidaksama = x != y #true\n",
        "\n",
        "print(sama_dengan)\n",
        "print(kurangdari_samadengan)\n",
        "print(lebihdari_samadengan)\n",
        "print(tidaksama)"
      ],
      "execution_count": null,
      "outputs": [
        {
          "output_type": "stream",
          "name": "stdout",
          "text": [
            "False\n",
            "False\n",
            "True\n",
            "True\n"
          ]
        }
      ]
    },
    {
      "cell_type": "markdown",
      "metadata": {
        "id": "qX5USXut2ENs"
      },
      "source": [
        "### 1.3.3. Operator penugasan"
      ]
    },
    {
      "cell_type": "code",
      "metadata": {
        "id": "GsibGJd72ENy",
        "colab": {
          "base_uri": "https://localhost:8080/"
        },
        "outputId": "b63ef0d4-0999-43b9-e077-fca0553b90bd"
      },
      "source": [
        "# Mengisikan variabel x dengan nilainya sendiri dan ditambah dengan nilai sebelah kan\n",
        "x -=3 #5\n",
        "print(x)\n",
        "y +=2 #2\n",
        "print(y)\n",
        "# print(x+y)\n"
      ],
      "execution_count": null,
      "outputs": [
        {
          "output_type": "stream",
          "name": "stdout",
          "text": [
            "2\n",
            "4\n"
          ]
        }
      ]
    },
    {
      "cell_type": "code",
      "source": [
        "a = 1\n",
        "a -= y\n",
        "print(a)"
      ],
      "metadata": {
        "colab": {
          "base_uri": "https://localhost:8080/"
        },
        "id": "-DiB8-2ud-y0",
        "outputId": "9394ad3b-07b9-42dd-9d25-40351f08371e"
      },
      "execution_count": null,
      "outputs": [
        {
          "output_type": "stream",
          "name": "stdout",
          "text": [
            "-3\n"
          ]
        }
      ]
    },
    {
      "cell_type": "markdown",
      "metadata": {
        "id": "V8GNwtb32EON"
      },
      "source": [
        "### 1.3.4. Logical Operators"
      ]
    },
    {
      "cell_type": "code",
      "metadata": {
        "id": "urbJ_K2-2EOO"
      },
      "source": [
        "a = True\n",
        "b = False\n",
        "c = True"
      ],
      "execution_count": null,
      "outputs": []
    },
    {
      "cell_type": "code",
      "metadata": {
        "id": "Rk9c5dpU2EOU",
        "colab": {
          "base_uri": "https://localhost:8080/"
        },
        "outputId": "3c255659-dc31-407e-cdaa-814226f21c48"
      },
      "source": [
        "# Operator AND\n",
        "AND_t_f = a and b\n",
        "AND_t_t = a or a\n",
        "AND_f_f = b or b\n",
        "print(AND_t_f,'=',AND_t_t,'=',AND_f_f)"
      ],
      "execution_count": null,
      "outputs": [
        {
          "output_type": "stream",
          "name": "stdout",
          "text": [
            "True = True = False\n"
          ]
        }
      ]
    },
    {
      "cell_type": "code",
      "metadata": {
        "id": "X4r0gwfr2EOb",
        "colab": {
          "base_uri": "https://localhost:8080/"
        },
        "outputId": "c34bccb6-0c8c-42c7-daa8-c0058b2f573c"
      },
      "source": [
        "x = 6\n",
        "y = 2\n",
        "# operator and\n",
        "AND = x > 4 and y == None\n",
        "print(AND)"
      ],
      "execution_count": null,
      "outputs": [
        {
          "output_type": "stream",
          "name": "stdout",
          "text": [
            "False\n"
          ]
        }
      ]
    },
    {
      "cell_type": "code",
      "metadata": {
        "id": "T8Hxb1cO2EOj",
        "colab": {
          "base_uri": "https://localhost:8080/"
        },
        "outputId": "805ed124-6894-4f9d-c502-420159fbf3a5"
      },
      "source": [
        "# isilah dengan menggunakan operator NOT\n",
        "NOT = None\n",
        "print(NOT)"
      ],
      "execution_count": null,
      "outputs": [
        {
          "output_type": "stream",
          "name": "stdout",
          "text": [
            "None\n"
          ]
        }
      ]
    },
    {
      "cell_type": "markdown",
      "metadata": {
        "id": "4t9fMgBJ2EOp"
      },
      "source": [
        "### 1.3.5. Operator bitwise"
      ]
    },
    {
      "cell_type": "code",
      "metadata": {
        "id": "WwdEX26J2EOq"
      },
      "source": [
        "biner1 = 5\n",
        "biner2 = 2"
      ],
      "execution_count": null,
      "outputs": []
    },
    {
      "cell_type": "code",
      "metadata": {
        "id": "Gop9mFTL2EOv",
        "colab": {
          "base_uri": "https://localhost:8080/"
        },
        "outputId": "726ea8b7-8e1f-46ba-aa18-9640e1450caf"
      },
      "source": [
        "# Operator &\n",
        "operator_and = 2 & 2\n",
        "print(operator_and)"
      ],
      "execution_count": null,
      "outputs": [
        {
          "output_type": "stream",
          "name": "stdout",
          "text": [
            "2\n"
          ]
        }
      ]
    },
    {
      "cell_type": "code",
      "metadata": {
        "id": "oDS-4PmV2EO1",
        "colab": {
          "base_uri": "https://localhost:8080/"
        },
        "outputId": "f624ec72-d501-41dc-d7e3-2bc38d9c8e8e"
      },
      "source": [
        "# Operator |\n",
        "operator_or = biner1 | biner2\n",
        "print(operator_or)"
      ],
      "execution_count": null,
      "outputs": [
        {
          "output_type": "stream",
          "name": "stdout",
          "text": [
            "7\n"
          ]
        }
      ]
    },
    {
      "cell_type": "markdown",
      "metadata": {
        "id": "i8k1vyhz2ERJ"
      },
      "source": [
        "## 1.4. List"
      ]
    },
    {
      "cell_type": "markdown",
      "metadata": {
        "id": "RSc65az62ERK"
      },
      "source": [
        "### 1.4.1 Mengakses list"
      ]
    },
    {
      "cell_type": "code",
      "metadata": {
        "scrolled": true,
        "id": "3-3PP4ok2ERO",
        "colab": {
          "base_uri": "https://localhost:8080/"
        },
        "outputId": "d1b67b69-805c-4cf1-89b3-82fa70117682"
      },
      "source": [
        "data = [1,2,3,4,5]\n",
        "print(data)"
      ],
      "execution_count": null,
      "outputs": [
        {
          "output_type": "stream",
          "name": "stdout",
          "text": [
            "[1, 2, 3, 4, 5]\n"
          ]
        }
      ]
    },
    {
      "cell_type": "code",
      "source": [
        "data2=['a','b','c','d']\n",
        "print(data2)"
      ],
      "metadata": {
        "id": "zBKFbclQt1GR",
        "colab": {
          "base_uri": "https://localhost:8080/"
        },
        "outputId": "4309eaa8-cf23-4cc3-f0e1-3b86a7df43dc"
      },
      "execution_count": null,
      "outputs": [
        {
          "output_type": "stream",
          "name": "stdout",
          "text": [
            "['a', 'b', 'c', 'd']\n"
          ]
        }
      ]
    },
    {
      "cell_type": "code",
      "metadata": {
        "id": "IQRAoriG2ERe",
        "colab": {
          "base_uri": "https://localhost:8080/"
        },
        "outputId": "9494ead4-b6d7-4ba2-a2e8-6e513f13ace3"
      },
      "source": [
        "bagian_data1 = data[2]\n",
        "print(bagian_data1)"
      ],
      "execution_count": null,
      "outputs": [
        {
          "output_type": "stream",
          "name": "stdout",
          "text": [
            "4\n"
          ]
        }
      ]
    },
    {
      "cell_type": "code",
      "metadata": {
        "id": "50qlWvhO2ERj",
        "colab": {
          "base_uri": "https://localhost:8080/"
        },
        "outputId": "551b41e7-b6f0-47f2-da35-29dde36aeab3"
      },
      "source": [
        "bagian_data2 = data[-5]\n",
        "print(bagian_data2)\n",
        "\n",
        "# jika diakses dari belakang indeks List akan dimulai dari -1"
      ],
      "execution_count": null,
      "outputs": [
        {
          "output_type": "stream",
          "name": "stdout",
          "text": [
            "1\n"
          ]
        }
      ]
    },
    {
      "cell_type": "code",
      "metadata": {
        "id": "XSCAbb-82ERw",
        "colab": {
          "base_uri": "https://localhost:8080/"
        },
        "outputId": "297220d0-e29a-4734-f5d8-59d1f0e47926"
      },
      "source": [
        "# TO DO: ambilah angka 3 pada list diatas\n",
        "bagian_data3 = data[2]\n",
        "print(bagian_data3)"
      ],
      "execution_count": null,
      "outputs": [
        {
          "output_type": "stream",
          "name": "stdout",
          "text": [
            "3\n"
          ]
        }
      ]
    },
    {
      "cell_type": "code",
      "source": [
        "data.append(7)\n",
        "print(data)"
      ],
      "metadata": {
        "colab": {
          "base_uri": "https://localhost:8080/"
        },
        "id": "KT5kLzpXWP-Y",
        "outputId": "a25bb152-6fe2-4070-c47b-5e86287a5835"
      },
      "execution_count": null,
      "outputs": [
        {
          "output_type": "stream",
          "name": "stdout",
          "text": [
            "[1, 2, 3, 4, 5, 6, 7]\n"
          ]
        }
      ]
    },
    {
      "cell_type": "markdown",
      "metadata": {
        "id": "F86Y15cZ2ER3"
      },
      "source": [
        "### 1.4.2. Memotong dan Merubah isi List"
      ]
    },
    {
      "cell_type": "code",
      "metadata": {
        "id": "yqcQmMeN2ESA",
        "colab": {
          "base_uri": "https://localhost:8080/"
        },
        "outputId": "c19d079b-bf58-4d36-8006-959172eedc29"
      },
      "source": [
        "#memotong dari indeks ke - 3 hingga indeks terakhir\n",
        "bagian_data5 = data[2:]\n",
        "print(bagian_data5)"
      ],
      "execution_count": null,
      "outputs": [
        {
          "output_type": "stream",
          "name": "stdout",
          "text": [
            "[3, 4, 5, 6, 7]\n"
          ]
        }
      ]
    },
    {
      "cell_type": "code",
      "metadata": {
        "id": "ehjExYsI2ESI",
        "colab": {
          "base_uri": "https://localhost:8080/"
        },
        "outputId": "ad2e3f79-738d-46db-f5ed-42f27fbfaf93"
      },
      "source": [
        "#memotong dari indeks awal hingga sebelum indeks ke - 4\n",
        "bagian_data6 = data[:2]\n",
        "print(bagian_data6)"
      ],
      "execution_count": null,
      "outputs": [
        {
          "output_type": "stream",
          "name": "stdout",
          "text": [
            "[1, 2]\n"
          ]
        }
      ]
    },
    {
      "cell_type": "code",
      "metadata": {
        "id": "d3gXi6eD2ESU",
        "colab": {
          "base_uri": "https://localhost:8080/"
        },
        "outputId": "8196e46e-97d0-449c-f6ee-2cdbd20d02af"
      },
      "source": [
        "#memotong dari indeks ke - -1 hingga sesudah indeks ke - -2, konsepnya berkebalikan dengan bagian_data5\n",
        "bagian_data7 = data[:-2]\n",
        "print(bagian_data7)"
      ],
      "execution_count": null,
      "outputs": [
        {
          "output_type": "stream",
          "name": "stdout",
          "text": [
            "[1, 2, 3, 4, 5]\n"
          ]
        }
      ]
    },
    {
      "cell_type": "code",
      "metadata": {
        "id": "UefjSTDT2ESc",
        "colab": {
          "base_uri": "https://localhost:8080/"
        },
        "outputId": "73d7954a-2498-4987-c7fd-3bd08c0e44d3"
      },
      "source": [
        "# TO DO: ambilah angka 2,3, dan 4 dari list diatas\n",
        "bagian_data8 = data[2:5]\n",
        "print(bagian_data8)"
      ],
      "execution_count": null,
      "outputs": [
        {
          "output_type": "stream",
          "name": "stdout",
          "text": [
            "[3, 4, 5]\n"
          ]
        }
      ]
    },
    {
      "cell_type": "code",
      "metadata": {
        "id": "7KjzMoeOmAs9",
        "colab": {
          "base_uri": "https://localhost:8080/"
        },
        "outputId": "23e66313-0615-458a-cccf-8aa0e2d9c081"
      },
      "source": [
        "data3=[1,2,3,4,5,6,7,9,10]\n",
        "#stride\n",
        "bagian_data9 = data3[0:9:2]\n",
        "print(bagian_data9)"
      ],
      "execution_count": null,
      "outputs": [
        {
          "output_type": "stream",
          "name": "stdout",
          "text": [
            "[1, 3, 5, 7, 10]\n"
          ]
        }
      ]
    },
    {
      "cell_type": "code",
      "metadata": {
        "id": "xxo82Trf2ESk",
        "colab": {
          "base_uri": "https://localhost:8080/"
        },
        "outputId": "70083212-0bfb-4f41-d864-642db93703c2"
      },
      "source": [
        "#merubah isi list dengan memotongnya dan mengganti 10,11,12\n",
        "data3[1:4] = [11,12,13]\n",
        "# [1,11,12,13,5,6,7,9,10]\n",
        "print(data3)"
      ],
      "execution_count": null,
      "outputs": [
        {
          "output_type": "stream",
          "name": "stdout",
          "text": [
            "[1, 11, 12, 13, 5, 6, 7, 9, 10]\n"
          ]
        }
      ]
    },
    {
      "cell_type": "code",
      "metadata": {
        "id": "jwIDMc8onDIi",
        "colab": {
          "base_uri": "https://localhost:8080/"
        },
        "outputId": "ab3ccae6-4e48-4e2f-d169-7b0ee8889f61"
      },
      "source": [
        "#menambhakan list\n",
        "# print(data)\n",
        "data3[1:4] = [2,3,4]\n",
        "print(data3)"
      ],
      "execution_count": null,
      "outputs": [
        {
          "output_type": "stream",
          "name": "stdout",
          "text": [
            "[1, 2, 3, 4, 5, 6, 7, 9, 10, 13]\n"
          ]
        }
      ]
    },
    {
      "cell_type": "code",
      "metadata": {
        "id": "ok-B3GbPnHqH",
        "colab": {
          "base_uri": "https://localhost:8080/"
        },
        "outputId": "ad08c217-adca-4e10-9fab-8b19c79f065d"
      },
      "source": [
        "#remove\n",
        "a = data3.remove(3)\n",
        "print(data3)"
      ],
      "execution_count": null,
      "outputs": [
        {
          "output_type": "stream",
          "name": "stdout",
          "text": [
            "[1, 4, 5, 6, 7, 9, 10, 13, 6, 7]\n"
          ]
        }
      ]
    },
    {
      "cell_type": "code",
      "metadata": {
        "id": "E9Ya2kCOnZmV",
        "colab": {
          "base_uri": "https://localhost:8080/"
        },
        "outputId": "5025799b-6f31-4718-9202-5360089abf54"
      },
      "source": [
        "# extend\n",
        "print(data3.extend([6,7]))\n",
        "print(data3)"
      ],
      "execution_count": null,
      "outputs": [
        {
          "output_type": "stream",
          "name": "stdout",
          "text": [
            "None\n",
            "[1, 4, 5, 6, 7, 9, 10, 13, 6, 7, 6, 7]\n"
          ]
        }
      ]
    },
    {
      "cell_type": "markdown",
      "metadata": {
        "id": "XeRFNiI82ES0"
      },
      "source": [
        "### 1.4.3. Multidimensional List"
      ]
    },
    {
      "cell_type": "code",
      "metadata": {
        "id": "XOr9FpsB2ES2",
        "colab": {
          "base_uri": "https://localhost:8080/"
        },
        "outputId": "b3d89367-8cf1-4b48-8db0-098b73f7bce2"
      },
      "source": [
        "#Menggabungkan dua buah list ke dalam satu variabel bernama kotak\n",
        "data1 = [3,8,5,1,6]\n",
        "data2 = [7,0,12,30,2]\n",
        "data3 = [7,12,34,12,4]\n",
        "kotak = [data1, data2]\n",
        "print(kotak)"
      ],
      "execution_count": null,
      "outputs": [
        {
          "output_type": "stream",
          "name": "stdout",
          "text": [
            "[[3, 8, 5, 1, 6], [7, 0, 12, 30, 2]]\n"
          ]
        }
      ]
    },
    {
      "cell_type": "code",
      "metadata": {
        "id": "MjEhG4EN2ES7",
        "colab": {
          "base_uri": "https://localhost:8080/"
        },
        "outputId": "e0027fbd-d061-4da9-98e8-cc326735e43c"
      },
      "source": [
        "#mengakses data2\n",
        "akses_kotak = kotak[1]\n",
        "print(akses_kotak)"
      ],
      "execution_count": null,
      "outputs": [
        {
          "output_type": "stream",
          "name": "stdout",
          "text": [
            "[7, 0, 12, 30, 2]\n"
          ]
        }
      ]
    },
    {
      "cell_type": "code",
      "metadata": {
        "id": "XUlecxKO2ETA",
        "colab": {
          "base_uri": "https://localhost:8080/"
        },
        "outputId": "37e4af36-2fb9-49fb-e6b9-38c948d714be"
      },
      "source": [
        "#Mengakses data1 indeks ke = 1\n",
        "# akses_kotak = kotak[0][1]\n",
        "# print(akses_kotak)\n",
        "\n",
        "#Mengakses data2 indeks ke = 3\n",
        "akses_kotak = kotak[1][2]\n",
        "print(akses_kotak)"
      ],
      "execution_count": null,
      "outputs": [
        {
          "output_type": "stream",
          "name": "stdout",
          "text": [
            "12\n"
          ]
        }
      ]
    },
    {
      "cell_type": "code",
      "metadata": {
        "id": "Q1UiBTTc2ETF",
        "colab": {
          "base_uri": "https://localhost:8080/"
        },
        "outputId": "5fe4237e-7dcc-4b37-bd08-72b3f4857ce5"
      },
      "source": [
        "# TO DO: akseslah data2 indeks ke - 2\n",
        "akses_kotak = kotak[0][2]\n",
        "print(akses_kotak)"
      ],
      "execution_count": null,
      "outputs": [
        {
          "output_type": "stream",
          "name": "stdout",
          "text": [
            "5\n"
          ]
        }
      ]
    },
    {
      "cell_type": "markdown",
      "metadata": {
        "id": "aBOLVSKu2EWR"
      },
      "source": [
        "## 1.5 Tuple"
      ]
    },
    {
      "cell_type": "code",
      "metadata": {
        "id": "EkqfGGBo2EWS",
        "colab": {
          "base_uri": "https://localhost:8080/"
        },
        "outputId": "2b755255-28cb-4a4d-a17b-43cbfa9cea2f"
      },
      "source": [
        "data = (1,2,3,4,4,4,5)\n",
        "print(type(data))"
      ],
      "execution_count": null,
      "outputs": [
        {
          "output_type": "stream",
          "name": "stdout",
          "text": [
            "<class 'tuple'>\n"
          ]
        }
      ]
    },
    {
      "cell_type": "code",
      "metadata": {
        "id": "EgdcuuRS2EWa",
        "colab": {
          "base_uri": "https://localhost:8080/"
        },
        "outputId": "3306b320-e814-40dc-e26d-ca18ec248156"
      },
      "source": [
        "print(data.index(2))"
      ],
      "execution_count": null,
      "outputs": [
        {
          "output_type": "stream",
          "name": "stdout",
          "text": [
            "1\n"
          ]
        }
      ]
    },
    {
      "cell_type": "code",
      "metadata": {
        "id": "5s7dWS2efV19",
        "colab": {
          "base_uri": "https://localhost:8080/"
        },
        "outputId": "55446544-855c-4ec0-cea1-3e8a6210b9b9"
      },
      "source": [
        "print(data.count(4))"
      ],
      "execution_count": null,
      "outputs": [
        {
          "output_type": "stream",
          "name": "stdout",
          "text": [
            "3\n"
          ]
        }
      ]
    },
    {
      "cell_type": "code",
      "metadata": {
        "id": "fpa_Lls0sZBJ"
      },
      "source": [],
      "execution_count": null,
      "outputs": []
    },
    {
      "cell_type": "markdown",
      "metadata": {
        "id": "xugcnnAu2EWz"
      },
      "source": [
        "## 1.7 Dictionary"
      ]
    },
    {
      "cell_type": "code",
      "metadata": {
        "id": "ii_MqRfP2EW0",
        "colab": {
          "base_uri": "https://localhost:8080/"
        },
        "outputId": "7dcd172b-fd54-47a1-c18d-d0ab6e60c357"
      },
      "source": [
        "# contoh dict\n",
        "data1 = {\"absen\":1,\n",
        "         \"Nama\":\"John Doe\",\n",
        "         \"Pekerjaan\":\"Data Scientist\"\n",
        "        }\n",
        "# print(data1)\n",
        "print(data1[\"Nama\"])"
      ],
      "execution_count": null,
      "outputs": [
        {
          "output_type": "stream",
          "name": "stdout",
          "text": [
            "John Doe\n"
          ]
        }
      ]
    },
    {
      "cell_type": "code",
      "metadata": {
        "id": "REsMxQad2EW4",
        "colab": {
          "base_uri": "https://localhost:8080/"
        },
        "outputId": "bfe711ca-58b1-46dd-e4f5-eccd9e31c429"
      },
      "source": [
        "#keys\n",
        "print(data1.keys())"
      ],
      "execution_count": null,
      "outputs": [
        {
          "output_type": "stream",
          "name": "stdout",
          "text": [
            "dict_keys(['absen', 'Nama', 'Pekerjaan'])\n"
          ]
        }
      ]
    },
    {
      "cell_type": "code",
      "metadata": {
        "id": "X7Qckncz2EW7",
        "colab": {
          "base_uri": "https://localhost:8080/"
        },
        "outputId": "eb1c02f0-eaac-4e10-fd0b-891b41eedc7d"
      },
      "source": [
        "#values\n",
        "print(data1.values())"
      ],
      "execution_count": null,
      "outputs": [
        {
          "output_type": "stream",
          "name": "stdout",
          "text": [
            "dict_values([1, 'John Doe', 'Data Scientist'])\n"
          ]
        }
      ]
    },
    {
      "cell_type": "code",
      "metadata": {
        "id": "gCG0n_342EW9",
        "colab": {
          "base_uri": "https://localhost:8080/"
        },
        "outputId": "116f3dde-9df9-4ae2-c542-bc71c3274ea0"
      },
      "source": [
        "#items\n",
        "print(data1.items())"
      ],
      "execution_count": null,
      "outputs": [
        {
          "output_type": "stream",
          "name": "stdout",
          "text": [
            "dict_items([('absen', 1), ('Nama', 'John Doe'), ('Pekerjaan', 'Data Scientist')])\n"
          ]
        }
      ]
    },
    {
      "cell_type": "code",
      "metadata": {
        "id": "FZudO-G32EXG",
        "colab": {
          "base_uri": "https://localhost:8080/"
        },
        "outputId": "57a2302e-46ee-4972-ce46-7844e5e22283"
      },
      "source": [
        "data1 = {\"absen\":1,\n",
        "         \"Nama\":\"John Doe\",\n",
        "         \"Pekerjaan\":\"Data Scientist\"\n",
        "        }\n",
        "\n",
        "data2 = {\"NIM\":2,\n",
        "         \"Nama\":\"Budi\",\n",
        "         \"Pekerjaan\":\"Mahasiswa\"\n",
        "        }\n",
        "\n",
        "database = {1:data1,2:data2}\n",
        "# print(database)\n",
        "# print(data2[\"Pekerjaan\"])\n",
        "print(database[2])"
      ],
      "execution_count": null,
      "outputs": [
        {
          "output_type": "stream",
          "name": "stdout",
          "text": [
            "Mahasiswa\n"
          ]
        }
      ]
    },
    {
      "cell_type": "code",
      "metadata": {
        "id": "ZyW8RTHswjSn",
        "colab": {
          "base_uri": "https://localhost:8080/"
        },
        "outputId": "a67895ac-5656-4bbb-f859-551623ee154f"
      },
      "source": [
        "b = {1,2,2,2,3,4}\n",
        "c = tuple(b)\n",
        "print(type(c),'-',type(b))"
      ],
      "execution_count": null,
      "outputs": [
        {
          "output_type": "stream",
          "name": "stdout",
          "text": [
            "<class 'tuple'> - <class 'set'>\n"
          ]
        }
      ]
    },
    {
      "cell_type": "markdown",
      "metadata": {
        "id": "LssamJQs2EWg"
      },
      "source": [
        "## 1.6 Set (Himpunan)"
      ]
    },
    {
      "cell_type": "code",
      "metadata": {
        "id": "Oag_lO1P2EWh",
        "colab": {
          "base_uri": "https://localhost:8080/"
        },
        "outputId": "e162165f-4e96-4996-aa7c-a1a32d956732"
      },
      "source": [
        "buah = {\"apel\",\"jeruk\",\"pisang\"}\n",
        "print(buah)\n"
      ],
      "execution_count": null,
      "outputs": [
        {
          "output_type": "stream",
          "name": "stdout",
          "text": [
            "{'pisang', 'jeruk', 'apel'}\n"
          ]
        }
      ]
    },
    {
      "cell_type": "code",
      "metadata": {
        "id": "lvAlWggJtPqH",
        "colab": {
          "base_uri": "https://localhost:8080/"
        },
        "outputId": "96573afd-b749-42ca-8fd9-20335dc33abe"
      },
      "source": [
        "# menambah buah anggur\n",
        "buah.add(\"anggur\")\n",
        "print(buah)"
      ],
      "execution_count": null,
      "outputs": [
        {
          "output_type": "stream",
          "name": "stdout",
          "text": [
            "{'anggur', 'pisang', 'jeruk', 'apel'}\n"
          ]
        }
      ]
    },
    {
      "cell_type": "code",
      "metadata": {
        "id": "m6PqOayz2EWk",
        "colab": {
          "base_uri": "https://localhost:8080/"
        },
        "outputId": "6f70bf37-ba15-4032-9a7a-7306d5b22f7a"
      },
      "source": [
        "print(sorted(buah))"
      ],
      "execution_count": null,
      "outputs": [
        {
          "output_type": "stream",
          "name": "stdout",
          "text": [
            "['anggur', 'apel', 'jeruk', 'pisang']\n"
          ]
        }
      ]
    },
    {
      "cell_type": "code",
      "metadata": {
        "id": "JxPatibI2EWp",
        "colab": {
          "base_uri": "https://localhost:8080/"
        },
        "outputId": "109e29fe-da47-4cd0-96c3-adf8e55f1f54"
      },
      "source": [
        "# union\n",
        "buah1 = {\"manggis\",\"mangga\",\"jambu\"}\n",
        "print(buah.union(buah1))\n"
      ],
      "execution_count": null,
      "outputs": [
        {
          "output_type": "stream",
          "name": "stdout",
          "text": [
            "{'pisang', 'anggur', 'jeruk', 'apel', 'mangga', 'jambu', 'manggis'}\n"
          ]
        }
      ]
    },
    {
      "cell_type": "code",
      "source": [
        "print(sorted(buah))"
      ],
      "metadata": {
        "colab": {
          "base_uri": "https://localhost:8080/"
        },
        "id": "vYw453vJeWXR",
        "outputId": "d522c3c1-bf91-4ee4-820d-255651321b5c"
      },
      "execution_count": null,
      "outputs": [
        {
          "output_type": "stream",
          "name": "stdout",
          "text": [
            "['anggur', 'apel', 'jeruk', 'pisang']\n"
          ]
        }
      ]
    },
    {
      "cell_type": "code",
      "metadata": {
        "id": "6jEMqKcK2EWt"
      },
      "source": [
        "# TO DO: buat lah intersection buah dan buah1"
      ],
      "execution_count": null,
      "outputs": []
    },
    {
      "cell_type": "markdown",
      "metadata": {
        "id": "cBcgcKC92Ero"
      },
      "source": [
        "![image.png](data:image/png;base64,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)"
      ]
    },
    {
      "cell_type": "markdown",
      "metadata": {
        "id": "douFcqUCUfzo"
      },
      "source": [
        "## 1.8 if Else Statements"
      ]
    },
    {
      "cell_type": "code",
      "metadata": {
        "id": "9OyJCl7vUfzu",
        "colab": {
          "base_uri": "https://localhost:8080/"
        },
        "outputId": "f13fbd07-2cb9-45fb-d66e-f9a6ca20ca57"
      },
      "source": [
        "if 1 < 2:\n",
        "    print('Hello World!')"
      ],
      "execution_count": null,
      "outputs": [
        {
          "output_type": "stream",
          "name": "stdout",
          "text": [
            "Hello World!\n"
          ]
        }
      ]
    },
    {
      "cell_type": "code",
      "metadata": {
        "id": "vn-O2hqYUfzx",
        "colab": {
          "base_uri": "https://localhost:8080/"
        },
        "outputId": "48523a89-87d5-4686-9aea-11aecdee4ba8"
      },
      "source": [
        "if 1 > 2:\n",
        "    print('hello')\n",
        "else:\n",
        "    print('world')"
      ],
      "execution_count": null,
      "outputs": [
        {
          "output_type": "stream",
          "name": "stdout",
          "text": [
            "world\n"
          ]
        }
      ]
    },
    {
      "cell_type": "code",
      "metadata": {
        "id": "4qLrtMmWUf0B",
        "colab": {
          "base_uri": "https://localhost:8080/"
        },
        "outputId": "e1742eeb-e226-4521-e0cb-a0a148959af6"
      },
      "source": [
        "if 1 == 2:\n",
        "    print('Hello')\n",
        "elif 2 == 3:\n",
        "    print('world')\n",
        "else:\n",
        "    print('hello world')"
      ],
      "execution_count": null,
      "outputs": [
        {
          "output_type": "stream",
          "name": "stdout",
          "text": [
            "hello world\n"
          ]
        }
      ]
    },
    {
      "cell_type": "markdown",
      "metadata": {
        "id": "4NGQV1hUyCiU"
      },
      "source": [
        "## 1.9 Looping"
      ]
    },
    {
      "cell_type": "markdown",
      "metadata": {
        "id": "G4WkAFpcUf0F"
      },
      "source": [
        "### 1.9.1. for Loops"
      ]
    },
    {
      "cell_type": "code",
      "metadata": {
        "id": "ugv4JY1ZUf0G"
      },
      "source": [
        "seq = [1,2,3,4,5]"
      ],
      "execution_count": null,
      "outputs": []
    },
    {
      "cell_type": "code",
      "metadata": {
        "id": "crBl2kK1Uf0M",
        "colab": {
          "base_uri": "https://localhost:8080/"
        },
        "outputId": "2a58b890-2f98-44ab-f4d7-987c5d9356d2"
      },
      "source": [
        "for a in seq:\n",
        "    print(a)"
      ],
      "execution_count": null,
      "outputs": [
        {
          "output_type": "stream",
          "name": "stdout",
          "text": [
            "1\n",
            "2\n",
            "3\n",
            "4\n",
            "5\n"
          ]
        }
      ]
    },
    {
      "cell_type": "code",
      "metadata": {
        "id": "XvyXJ2FGUf0V",
        "colab": {
          "base_uri": "https://localhost:8080/"
        },
        "outputId": "a71abe58-5cee-4583-cdf8-8daaba9c7b11"
      },
      "source": [
        "for item in seq:\n",
        "    print('Hello')"
      ],
      "execution_count": null,
      "outputs": [
        {
          "output_type": "stream",
          "name": "stdout",
          "text": [
            "Hello\n",
            "Hello\n",
            "Hello\n",
            "Hello\n",
            "Hello\n"
          ]
        }
      ]
    },
    {
      "cell_type": "code",
      "metadata": {
        "id": "28Ql5nfqUf0k",
        "colab": {
          "base_uri": "https://localhost:8080/"
        },
        "outputId": "41adbf77-c4e5-4923-b008-6341b2fd9a44"
      },
      "source": [
        "for i in seq:\n",
        "    print(i*i)"
      ],
      "execution_count": null,
      "outputs": [
        {
          "output_type": "stream",
          "name": "stdout",
          "text": [
            "1\n",
            "4\n",
            "9\n",
            "16\n",
            "25\n"
          ]
        }
      ]
    },
    {
      "cell_type": "code",
      "metadata": {
        "id": "ArhfZjm5wzY6",
        "colab": {
          "base_uri": "https://localhost:8080/"
        },
        "outputId": "b3b7dcf0-b5d9-4428-c284-847207da9ff3"
      },
      "source": [
        "for i in seq:\n",
        "    print(i*i)"
      ],
      "execution_count": null,
      "outputs": [
        {
          "output_type": "stream",
          "name": "stdout",
          "text": [
            "1\n",
            "4\n",
            "9\n",
            "16\n",
            "25\n"
          ]
        }
      ]
    },
    {
      "cell_type": "markdown",
      "metadata": {
        "id": "BRJTmIzhUf0p"
      },
      "source": [
        "### 1.9.2. while Loops"
      ]
    },
    {
      "cell_type": "code",
      "metadata": {
        "id": "U329_qzjUf0r",
        "colab": {
          "base_uri": "https://localhost:8080/"
        },
        "outputId": "5a45a1f8-9097-4d22-c63f-7a1c56bfce9d"
      },
      "source": [
        "i = 3\n",
        "while i < 7:\n",
        "    print(i)\n",
        "    i +=1"
      ],
      "execution_count": null,
      "outputs": [
        {
          "output_type": "stream",
          "name": "stdout",
          "text": [
            "3\n",
            "4\n",
            "5\n",
            "6\n"
          ]
        }
      ]
    },
    {
      "cell_type": "markdown",
      "metadata": {
        "id": "yDMsM4lK2EVj"
      },
      "source": [
        "## 1.10. Function"
      ]
    },
    {
      "cell_type": "markdown",
      "metadata": {
        "id": "-bWzivyx2EVk"
      },
      "source": [
        "### 1.10.1. Fungsi sederhana"
      ]
    },
    {
      "cell_type": "code",
      "metadata": {
        "id": "c6qk2gt62EVl"
      },
      "source": [
        "def fungsi():\n",
        "  print('dfdf')\n",
        "    # print(\"Hello World!\")\n",
        "\n",
        "# fungsi()"
      ],
      "execution_count": null,
      "outputs": []
    },
    {
      "cell_type": "code",
      "source": [
        "fungsi()"
      ],
      "metadata": {
        "colab": {
          "base_uri": "https://localhost:8080/"
        },
        "id": "YZS-_9Vkfk2O",
        "outputId": "ec3be420-7d0b-41ea-b9a4-97f5f320af7e"
      },
      "execution_count": null,
      "outputs": [
        {
          "output_type": "stream",
          "name": "stdout",
          "text": [
            "dfdf\n"
          ]
        }
      ]
    },
    {
      "cell_type": "markdown",
      "metadata": {
        "id": "U_6X6BMh2EVs"
      },
      "source": [
        "### 1.10.2. Fungsi dengan argumen"
      ]
    },
    {
      "cell_type": "code",
      "metadata": {
        "id": "sotFxzli2EVs"
      },
      "source": [
        "def jumlah(angka1,angka2):\n",
        "    hasil = angka1 + angka2\n",
        "    print(hasil)\n",
        "\n",
        "# jumlah(1,2)"
      ],
      "execution_count": null,
      "outputs": []
    },
    {
      "cell_type": "code",
      "source": [
        "jumlah(1,3)"
      ],
      "metadata": {
        "colab": {
          "base_uri": "https://localhost:8080/"
        },
        "id": "QFUFhCabfxlC",
        "outputId": "dd3871d5-5914-4aad-f5c8-378cd50118b4"
      },
      "execution_count": null,
      "outputs": [
        {
          "output_type": "stream",
          "name": "stdout",
          "text": [
            "4\n"
          ]
        }
      ]
    },
    {
      "cell_type": "code",
      "metadata": {
        "id": "scyuegB42EVx"
      },
      "source": [
        "# TO DO: buatlah fungsi * dengan satu argumen\n",
        "def pangkat(angka1,angka2):\n",
        "    hasil = angka1 * angka2\n",
        "    print(hasil)\n",
        ""
      ],
      "execution_count": null,
      "outputs": []
    },
    {
      "cell_type": "code",
      "source": [
        "pangkat(2,4)\n",
        "jumlah(1,2)"
      ],
      "metadata": {
        "colab": {
          "base_uri": "https://localhost:8080/"
        },
        "id": "mtjWquNwusnD",
        "outputId": "bbb91d9f-9991-49a7-b403-9f42dcaeea7b"
      },
      "execution_count": null,
      "outputs": [
        {
          "output_type": "stream",
          "name": "stdout",
          "text": [
            "8\n",
            "3\n"
          ]
        }
      ]
    },
    {
      "cell_type": "markdown",
      "metadata": {
        "id": "7AtWbCEK2EV2"
      },
      "source": [
        "### 1.10.3. Fungsi dengan return value"
      ]
    },
    {
      "cell_type": "code",
      "metadata": {
        "id": "IH3v4GqY2EV3"
      },
      "source": [
        "def perkalian(angka1,angka2):\n",
        "    hasil = angka1 * angka2\n",
        "    print(hasil)"
      ],
      "execution_count": null,
      "outputs": []
    },
    {
      "cell_type": "code",
      "metadata": {
        "id": "7aLSmSwnzVys",
        "colab": {
          "base_uri": "https://localhost:8080/"
        },
        "outputId": "23c90de2-3bb9-4285-ce87-5db628d55beb"
      },
      "source": [
        "perkalian(2,4)"
      ],
      "execution_count": null,
      "outputs": [
        {
          "output_type": "stream",
          "name": "stdout",
          "text": [
            "8\n"
          ]
        }
      ]
    },
    {
      "cell_type": "code",
      "metadata": {
        "id": "8E_8qVHuzaAS",
        "colab": {
          "base_uri": "https://localhost:8080/"
        },
        "outputId": "b463e780-c930-4d3b-f3bc-ddf0e7c8f388"
      },
      "source": [
        "a = perkalian(1,2)"
      ],
      "execution_count": null,
      "outputs": [
        {
          "output_type": "stream",
          "name": "stdout",
          "text": [
            "2\n"
          ]
        }
      ]
    },
    {
      "cell_type": "code",
      "metadata": {
        "id": "m7eNreMXzcm8",
        "colab": {
          "base_uri": "https://localhost:8080/"
        },
        "outputId": "c2523e89-3ebc-41f2-81a9-e355613a5e30"
      },
      "source": [
        "print(a)"
      ],
      "execution_count": null,
      "outputs": [
        {
          "output_type": "stream",
          "name": "stdout",
          "text": [
            "None\n"
          ]
        }
      ]
    },
    {
      "cell_type": "code",
      "metadata": {
        "id": "zJC6n8rg2EV7",
        "colab": {
          "base_uri": "https://localhost:8080/"
        },
        "outputId": "89b7933f-4725-4b97-f0a7-49c2659a8106"
      },
      "source": [
        "def perkalian(angka1,angka2):\n",
        "    hasil = angka1 * angka2\n",
        "    return hasil\n",
        "\n",
        "a = perkalian(2,3)\n",
        "print(a)\n",
        "# b = 10 + a\n",
        "# print(b)"
      ],
      "execution_count": null,
      "outputs": [
        {
          "output_type": "stream",
          "name": "stdout",
          "text": [
            "6\n"
          ]
        }
      ]
    },
    {
      "cell_type": "code",
      "source": [
        "a = perkalian(2,3)\n",
        "print(a)\n",
        "b = 10 + a\n",
        "print(b)"
      ],
      "metadata": {
        "id": "F9ONTItQgKex",
        "outputId": "2cb4663c-ead4-4777-9a57-b7f36d6fb156",
        "colab": {
          "base_uri": "https://localhost:8080/"
        }
      },
      "execution_count": null,
      "outputs": [
        {
          "output_type": "stream",
          "name": "stdout",
          "text": [
            "6\n",
            "6\n",
            "16\n"
          ]
        }
      ]
    },
    {
      "cell_type": "code",
      "metadata": {
        "id": "KcCAH54y2EWB",
        "colab": {
          "base_uri": "https://localhost:8080/"
        },
        "outputId": "d7a06d6a-2c59-41bd-d5e3-ee53305c9165"
      },
      "source": [
        "# TO DO: masukanlah fungsi perkalian ke dalam variabel a dan isi argumennya dengan fungsi penjumlahan, lalu cetak\n",
        "def jumlah(angka1,angka2):\n",
        "    hasil = angka1 + angka2\n",
        "    return hasil\n",
        "\n",
        "a = perkalian(2,jumlah(3,4))\n",
        "print(a)"
      ],
      "execution_count": null,
      "outputs": [
        {
          "output_type": "stream",
          "name": "stdout",
          "text": [
            "14\n"
          ]
        }
      ]
    },
    {
      "cell_type": "markdown",
      "metadata": {
        "id": "pyI8LINw0i0P"
      },
      "source": [
        "# Thanks\n",
        "Feel free to contact me:\n",
        "\n",
        "\n",
        "*   linkedIn: https://www.linkedin.com/in/ali-murtadho/\n",
        "*   Github: https://github.com/alimurtadho\n",
        "*   telegram: https://t.me/alimurtadho_id\n",
        "*   medium: https://medium.com/@dho_aldho\n",
        "\n",
        "\n",
        "\n",
        "\n"
      ]
    }
  ]
}