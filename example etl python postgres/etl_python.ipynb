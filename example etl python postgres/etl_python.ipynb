{
 "cells": [
  {
   "cell_type": "code",
   "execution_count": 1,
   "metadata": {},
   "outputs": [],
   "source": [
    "import pandas as pd \n",
    "from google.oauth2 import service_account\n",
    "from google.cloud import bigquery\n",
    "import datetime\n",
    "import pytz"
   ]
  },
  {
   "cell_type": "code",
   "execution_count": 2,
   "metadata": {},
   "outputs": [],
   "source": [
    "df_superstore = pd.read_excel(\"/Users/newuser/Downloads/Sample Superstore.xlsx\")"
   ]
  },
  {
   "cell_type": "code",
   "execution_count": null,
   "metadata": {},
   "outputs": [],
   "source": [
    "df_superstore"
   ]
  },
  {
   "cell_type": "code",
   "execution_count": 11,
   "metadata": {},
   "outputs": [
    {
     "name": "stdout",
     "output_type": "stream",
     "text": [
      "********* NAME OF TABLE IS valid-gizmo-417606.binar_bi.binar_superstore\n"
     ]
    }
   ],
   "source": [
    "#config connect to bg\n",
    "key_path= \"your json key bigquery\"\n",
    "project_id=\"valid-gizmo-417606\"\n",
    "dataset_id = \"binar_bi\"\n",
    "table=\"binar_superstore\"\n",
    "table_id=\"{}.{}.{}\".format(project_id, dataset_id, table)\n",
    "print(\"********* NAME OF TABLE IS\", table_id)"
   ]
  },
  {
   "cell_type": "code",
   "execution_count": 4,
   "metadata": {},
   "outputs": [],
   "source": [
    "df_superstore.columns = df_superstore.columns.str.lower()"
   ]
  },
  {
   "cell_type": "code",
   "execution_count": 6,
   "metadata": {},
   "outputs": [
    {
     "name": "stdout",
     "output_type": "stream",
     "text": [
      "<class 'pandas.core.frame.DataFrame'>\n",
      "RangeIndex: 12420 entries, 0 to 12419\n",
      "Data columns (total 19 columns):\n",
      " #   Column         Non-Null Count  Dtype         \n",
      "---  ------         --------------  -----         \n",
      " 0   order_date     12420 non-null  datetime64[ns]\n",
      " 1   order_id       12420 non-null  object        \n",
      " 2   category       12420 non-null  object        \n",
      " 3   sub_category   12420 non-null  object        \n",
      " 4   product_name   12420 non-null  object        \n",
      " 5   segment        12420 non-null  object        \n",
      " 6   country        12420 non-null  object        \n",
      " 7   region         12420 non-null  object        \n",
      " 8   state          12420 non-null  object        \n",
      " 9   city           12420 non-null  object        \n",
      " 10  postal_code    12409 non-null  float64       \n",
      " 11  customer_name  12420 non-null  object        \n",
      " 12  ship_mode      12420 non-null  object        \n",
      " 13  ship_date      12420 non-null  datetime64[ns]\n",
      " 14  ship_status    12420 non-null  object        \n",
      " 15  sales          12420 non-null  float64       \n",
      " 16  quantity       12420 non-null  float64       \n",
      " 17  discount       12420 non-null  float64       \n",
      " 18  profit         12420 non-null  float64       \n",
      "dtypes: datetime64[ns](2), float64(5), object(12)\n",
      "memory usage: 1.8+ MB\n"
     ]
    }
   ],
   "source": [
    "df_superstore.info()"
   ]
  },
  {
   "cell_type": "code",
   "execution_count": 5,
   "metadata": {},
   "outputs": [],
   "source": [
    "df_superstore.columns = df_superstore.columns.str.replace(' ', '_')\n",
    "df_superstore.columns = df_superstore.columns.str.replace('-', '_')"
   ]
  },
  {
   "cell_type": "code",
   "execution_count": 7,
   "metadata": {},
   "outputs": [],
   "source": [
    "credentials = service_account.Credentials.from_service_account_file(\n",
    "    key_path, scopes=[\"https://www.googleapis.com/auth/cloud-platform\"],\n",
    "    )"
   ]
  },
  {
   "cell_type": "code",
   "execution_count": 9,
   "metadata": {},
   "outputs": [
    {
     "data": {
      "text/plain": [
       "LoadJob<project=onyx-harmony-419303, location=asia-southeast1, id=93b056d9-848b-4829-9f57-685803635638>"
      ]
     },
     "execution_count": 9,
     "metadata": {},
     "output_type": "execute_result"
    }
   ],
   "source": [
    "job_config = bigquery.LoadJobConfig(\n",
    "    create_disposition='CREATE_IF_NEEDED',\n",
    "    write_disposition='WRITE_APPEND'\n",
    ")\n",
    "\n",
    "job = client.load_table_from_dataframe(\n",
    "    df_superstore, table_id, job_config=job_config\n",
    ")\n",
    "job.result()"
   ]
  },
  {
   "cell_type": "code",
   "execution_count": null,
   "metadata": {},
   "outputs": [],
   "source": [
    "# Construct a BigQuery client object.\n",
    "client = bigquery.Client(credentials=credentials, project=project_id)\n",
    "\n",
    "job_config = bigquery.LoadJobConfig(\n",
    "      \n",
    "      create_disposition='CREATE_IF_NEEDED',\n",
    "      write_disposition='WRITE_TRUNCATE'\n",
    ")\n",
    "\n",
    "job = client.load_table_from_dataframe(\n",
    "    df_superstore, table_id, job_config=job_config\n",
    ")  \n",
    "job.result()  \n",
    "\n",
    "data = client.get_table(table_id)\n",
    "print(data,'return insert bg')"
   ]
  },
  {
   "cell_type": "code",
   "execution_count": null,
   "metadata": {},
   "outputs": [],
   "source": []
  }
 ],
 "metadata": {
  "kernelspec": {
   "display_name": "venv",
   "language": "python",
   "name": "python3"
  },
  "language_info": {
   "codemirror_mode": {
    "name": "ipython",
    "version": 3
   },
   "file_extension": ".py",
   "mimetype": "text/x-python",
   "name": "python",
   "nbconvert_exporter": "python",
   "pygments_lexer": "ipython3",
   "version": "3.9.10"
  }
 },
 "nbformat": 4,
 "nbformat_minor": 2
}
