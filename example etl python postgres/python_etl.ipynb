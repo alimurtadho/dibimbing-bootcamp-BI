{
 "cells": [
  {
   "cell_type": "code",
   "execution_count": 1,
   "metadata": {},
   "outputs": [],
   "source": [
    "import pandas as pd \n",
    "from dotenv import dotenv_values\n",
    "from sqlalchemy import create_engine\n",
    "import sqlalchemy as db"
   ]
  },
  {
   "cell_type": "code",
   "execution_count": 3,
   "metadata": {},
   "outputs": [
    {
     "ename": "ModuleNotFoundError",
     "evalue": "No module named 'matplotlib'",
     "output_type": "error",
     "traceback": [
      "\u001b[0;31m---------------------------------------------------------------------------\u001b[0m",
      "\u001b[0;31mModuleNotFoundError\u001b[0m                       Traceback (most recent call last)",
      "Cell \u001b[0;32mIn[3], line 1\u001b[0m\n\u001b[0;32m----> 1\u001b[0m \u001b[38;5;28;01mimport\u001b[39;00m \u001b[38;5;21;01mmatplotlib_inline\u001b[39;00m\n",
      "File \u001b[0;32m~/ali/project/6.kampus merdeka/repo_dibimbing/venv/lib/python3.9/site-packages/matplotlib_inline/__init__.py:1\u001b[0m\n\u001b[0;32m----> 1\u001b[0m \u001b[38;5;28;01mfrom\u001b[39;00m \u001b[38;5;21;01m.\u001b[39;00m \u001b[38;5;28;01mimport\u001b[39;00m backend_inline, config  \u001b[38;5;66;03m# noqa\u001b[39;00m\n\u001b[1;32m      2\u001b[0m __version__ \u001b[38;5;241m=\u001b[39m \u001b[38;5;124m\"\u001b[39m\u001b[38;5;124m0.1.6\u001b[39m\u001b[38;5;124m\"\u001b[39m  \u001b[38;5;66;03m# noqa\u001b[39;00m\n",
      "File \u001b[0;32m~/ali/project/6.kampus merdeka/repo_dibimbing/venv/lib/python3.9/site-packages/matplotlib_inline/backend_inline.py:6\u001b[0m\n\u001b[1;32m      1\u001b[0m \u001b[38;5;124;03m\"\"\"A matplotlib backend for publishing figures via display_data\"\"\"\u001b[39;00m\n\u001b[1;32m      3\u001b[0m \u001b[38;5;66;03m# Copyright (c) IPython Development Team.\u001b[39;00m\n\u001b[1;32m      4\u001b[0m \u001b[38;5;66;03m# Distributed under the terms of the BSD 3-Clause License.\u001b[39;00m\n\u001b[0;32m----> 6\u001b[0m \u001b[38;5;28;01mimport\u001b[39;00m \u001b[38;5;21;01mmatplotlib\u001b[39;00m\n\u001b[1;32m      7\u001b[0m \u001b[38;5;28;01mfrom\u001b[39;00m \u001b[38;5;21;01mmatplotlib\u001b[39;00m \u001b[38;5;28;01mimport\u001b[39;00m colors\n\u001b[1;32m      8\u001b[0m \u001b[38;5;28;01mfrom\u001b[39;00m \u001b[38;5;21;01mmatplotlib\u001b[39;00m\u001b[38;5;21;01m.\u001b[39;00m\u001b[38;5;21;01mbackends\u001b[39;00m \u001b[38;5;28;01mimport\u001b[39;00m backend_agg\n",
      "\u001b[0;31mModuleNotFoundError\u001b[0m: No module named 'matplotlib'"
     ]
    }
   ],
   "source": [
    "import matplotlib_inline"
   ]
  },
  {
   "cell_type": "code",
   "execution_count": 2,
   "metadata": {},
   "outputs": [],
   "source": [
    "# read data \n",
    "df_order = pd.read_csv('/Users/newuser/ali/project/kampus merdeka/repo_dibimbing/dataset/Data latihan sql/Sample - Store - Orders.csv')\n",
    "df_people = pd.read_csv('/Users/newuser/ali/project/kampus merdeka/repo_dibimbing/dataset/Data latihan sql/Sample - Store - People.csv')\n",
    "df_returns = pd.read_csv('/Users/newuser/ali/project/kampus merdeka/repo_dibimbing/dataset/Data latihan sql/Sample - Store - Returns.csv')"
   ]
  },
  {
   "cell_type": "code",
   "execution_count": 16,
   "metadata": {},
   "outputs": [],
   "source": [
    "df_order['order_date']= pd.to_datetime(df_order['order_date'])\n",
    "df_order['ship_date']= pd.to_datetime(df_order['ship_date'])\n"
   ]
  },
  {
   "cell_type": "code",
   "execution_count": 4,
   "metadata": {},
   "outputs": [],
   "source": [
    "#create lower all coloumn\n",
    "df_order.columns = map(str.lower, df_order.columns)\n",
    "df_people.columns = map(str.lower, df_people.columns)\n",
    "df_returns.columns = map(str.lower, df_returns.columns)\n",
    "#replace char space to undnerscore\n",
    "df_order.columns = df_order.columns.str.replace(' ', '_')\n",
    "df_people.columns = df_people.columns.str.replace(' ', '_')\n",
    "df_returns.columns = df_returns.columns.str.replace(' ', '_')"
   ]
  },
  {
   "cell_type": "code",
   "execution_count": 17,
   "metadata": {},
   "outputs": [
    {
     "name": "stdout",
     "output_type": "stream",
     "text": [
      "<class 'pandas.core.frame.DataFrame'>\n",
      "RangeIndex: 9994 entries, 0 to 9993\n",
      "Data columns (total 20 columns):\n",
      " #   Column         Non-Null Count  Dtype         \n",
      "---  ------         --------------  -----         \n",
      " 0   order_id       9994 non-null   object        \n",
      " 1   order_date     9994 non-null   datetime64[ns]\n",
      " 2   ship_date      9994 non-null   datetime64[ns]\n",
      " 3   ship_mode      9994 non-null   object        \n",
      " 4   customer_id    9994 non-null   object        \n",
      " 5   customer_name  9994 non-null   object        \n",
      " 6   segment        9994 non-null   object        \n",
      " 7   country        9994 non-null   object        \n",
      " 8   city           9994 non-null   object        \n",
      " 9   state          9994 non-null   object        \n",
      " 10  postal_code    9994 non-null   int64         \n",
      " 11  region         9994 non-null   object        \n",
      " 12  product_id     9994 non-null   object        \n",
      " 13  category       9994 non-null   object        \n",
      " 14  sub-category   9994 non-null   object        \n",
      " 15  product_name   9994 non-null   object        \n",
      " 16  sales          9994 non-null   float64       \n",
      " 17  quantity       9994 non-null   int64         \n",
      " 18  discount       9994 non-null   float64       \n",
      " 19  profit         9994 non-null   float64       \n",
      "dtypes: datetime64[ns](2), float64(3), int64(2), object(13)\n",
      "memory usage: 1.5+ MB\n"
     ]
    }
   ],
   "source": [
    "df_order.info()"
   ]
  },
  {
   "cell_type": "code",
   "execution_count": 9,
   "metadata": {},
   "outputs": [],
   "source": [
    "#connect ke database\n",
    "config = dotenv_values(\".env\")\n",
    "# print(config)\n",
    "def con_db():\n",
    "    url = \"{d}://{u}:{p}@{h}:{port}/{db}\".\\\n",
    "            format(d=\"postgresql\",\n",
    "            u=config['POSTGRES_USER'],\n",
    "            p=config['POSTGRES_PASSWORD'],\n",
    "            h=config['POSTGRES_HOST'],\n",
    "            port=config['POSTGRES_PORT'],\n",
    "            db=config['POSTGRES_DB'])\n",
    "    engine = db.create_engine(url)\n",
    "    return engine"
   ]
  },
  {
   "cell_type": "code",
   "execution_count": 10,
   "metadata": {},
   "outputs": [
    {
     "data": {
      "text/plain": [
       "{'result': 'procces insert data returns done'}"
      ]
     },
     "execution_count": 10,
     "metadata": {},
     "output_type": "execute_result"
    }
   ],
   "source": [
    "def insert_csv_order():\n",
    "    db = con_db().connect()\n",
    "    df_order.to_sql(\n",
    "        'superstore_order', \n",
    "        db,\n",
    "        schema='dibimbing_bi', \n",
    "        if_exists='replace',\n",
    "        index=False,\n",
    "        index_label='id',\n",
    "        method='multi'\n",
    "        )\n",
    "    db.close()\n",
    "    return{\"result\":\"procces insert data order done\"}\n",
    "def insert_csv_people():\n",
    "    db = con_db().connect()\n",
    "    df_people.to_sql(\n",
    "        'superstore_people', \n",
    "        db,\n",
    "        schema='dibimbing_bi', \n",
    "        if_exists='replace',\n",
    "        index=False,\n",
    "        index_label='id',\n",
    "        method='multi'\n",
    "        )\n",
    "    db.close()\n",
    "    return{\"result\":\"procces insert data people done\"}\n",
    "def insert_csv_return():\n",
    "    db = con_db().connect()\n",
    "    df_returns.to_sql(\n",
    "        'superstore_returns', \n",
    "        db,\n",
    "        schema='dibimbing_bi', \n",
    "        if_exists='replace',\n",
    "        index=False,\n",
    "        index_label='id',\n",
    "        method='multi'\n",
    "        )\n",
    "    db.close()\n",
    "    return{\"result\":\"procces insert data returns done\"}\n",
    "\n",
    "insert_csv_order()\n",
    "# insert_csv_people()\n",
    "# insert_csv_return()"
   ]
  },
  {
   "cell_type": "code",
   "execution_count": 18,
   "metadata": {},
   "outputs": [
    {
     "data": {
      "text/plain": [
       "{'result': 'procces insert data order done'}"
      ]
     },
     "execution_count": 18,
     "metadata": {},
     "output_type": "execute_result"
    }
   ],
   "source": [
    "insert_csv_order()"
   ]
  },
  {
   "cell_type": "code",
   "execution_count": null,
   "metadata": {},
   "outputs": [],
   "source": [
    "\"\"\"\n",
    "select \n",
    "distinct (so.order_id) ,\n",
    "so.ship_mode ,\n",
    "so.customer_name \n",
    "from superstore_order so \n",
    "left join superstore_returns on \n",
    "order by so.order_id  asc \n",
    "limit 30\n",
    "offset 10\n",
    "\n",
    "\"\"\"\n",
    "\n",
    "\"\"\"\n",
    "select \n",
    "count(order_id) as count_order\n",
    "\n",
    "from superstore.\"Sample - Superstore\" ss \n",
    "right join dibimbing_bi.superstore_returns sr on ss.\"Order ID\" = sr.order_id \n",
    "\"\"\""
   ]
  },
  {
   "cell_type": "code",
   "execution_count": null,
   "metadata": {},
   "outputs": [],
   "source": [
    "\"\"\" \n",
    "--total data return 3 bulan terkahir tahun 2014\n",
    "\n",
    "with contoh_cte as (\n",
    "select\n",
    "\tso.order_id as order_id,\n",
    "\tso.customer_name,\n",
    "\tso.product_name,\n",
    "\tsr.order_id as return_order_id,\n",
    "\tso.order_date as return_id,\n",
    "\tso.product_id,\n",
    "\tdate_part('year', so.order_date::date) as year_order,\n",
    "\tso.order_date \n",
    "from\n",
    "\tsuperstore_order so\n",
    "join superstore_returns sr on\n",
    "\tsr.order_id = so.order_id\n",
    "where \n",
    "--\tsr.order_id in \n",
    "date_part('year', so.order_date::date) = 2014\n",
    "),\n",
    "sub_cte as (select\n",
    "\tcount(*) as total_return_order,\n",
    "\tto_char(order_date , 'YYYY-MM') as year_month\n",
    "from\n",
    "\tcontoh_cte\n",
    "--where date_part('year', so.order_date::date)\n",
    "where to_char(order_date , 'MM') in ('10','11','12')\n",
    "group by\n",
    "order_date\n",
    ")\n",
    "select \n",
    "sum(total_return_order),\n",
    "year_month\n",
    "from sub_cte\n",
    "group by \n",
    "sub_cte.year_month\n",
    "\n",
    "\n",
    "\n",
    "--5 most product best sell in 2015\n",
    "select  \n",
    "order_id,\n",
    "order_date\n",
    "from \n",
    "superstore_order so \n",
    "where \n",
    "total order_date th 2015\n",
    "limit \n",
    "5\n",
    "order by \n",
    "order_date \n",
    "\n",
    "\n",
    "--5 most product best sell in 2015\n",
    "select  \n",
    "count(product_id),\n",
    "product_name \n",
    "from \n",
    "superstore_order so \n",
    "where \n",
    "order_date  = 2015\n",
    "limit \n",
    "5\n",
    "order by \n",
    "count(product_id) asc \n",
    "\n",
    "-- \n",
    "select \n",
    "product_name,\n",
    "count(quantity)\n",
    "from\n",
    "superstore_order so \n",
    "where \n",
    "date_part('year', so.order_date::date) = 2015\n",
    "group by \n",
    "product_name \n",
    "order by \n",
    "count(quantity) desc \n",
    "limit 5;\n",
    "\n",
    "-- total data tahun ke tahun\n",
    "\n",
    "select\n",
    "\tcount(order_id) ,\n",
    "\tto_char(order_date , 'YYYY') as tahun,\n",
    "\tsum(profit) as total_profit\n",
    "\t--(select date_part('year', so.order_date::date) as tahun\n",
    "from\n",
    "\tsuperstore_order so \n",
    "group by\n",
    "\ttahun\n",
    "\n",
    "\n",
    "\n",
    "select\n",
    "\tdate_part('year', o.order_date :: date) as tahun ,\n",
    "\tcount(order_id),\n",
    "\tsum(profit)\n",
    "from superstore_order o \n",
    "group by\n",
    "tahun\n",
    "\n",
    "select count(order_id)\n",
    "from \n",
    "superstore_order so \n",
    "where date_part('year', order_date :: date) = 2014\n",
    "\n",
    "\"\"\""
   ]
  }
 ],
 "metadata": {
  "kernelspec": {
   "display_name": "venv",
   "language": "python",
   "name": "python3"
  },
  "language_info": {
   "codemirror_mode": {
    "name": "ipython",
    "version": 3
   },
   "file_extension": ".py",
   "mimetype": "text/x-python",
   "name": "python",
   "nbconvert_exporter": "python",
   "pygments_lexer": "ipython3",
   "version": "3.9.10"
  }
 },
 "nbformat": 4,
 "nbformat_minor": 2
}
