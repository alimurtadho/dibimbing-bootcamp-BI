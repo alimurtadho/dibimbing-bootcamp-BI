{
 "cells": [
  {
   "cell_type": "code",
   "execution_count": 2,
   "metadata": {},
   "outputs": [
    {
     "name": "stdout",
     "output_type": "stream",
     "text": [
      "Combined Data (Delta Load):\n",
      "    ID   Name  Salary updated_at\n",
      "0   1  Alice   50000 2023-03-01\n",
      "1   2    Bob   60000 2023-03-02\n",
      "2   5    Eve   72000 2023-03-04\n"
     ]
    }
   ],
   "source": [
    "import pandas as pd\n",
    "\n",
    "# Simulated existing data (replace with your actual data)\n",
    "existing_data = pd.DataFrame({\n",
    "    'ID': [1, 2],\n",
    "    'Name': ['Alice', 'Bob'],\n",
    "    'Salary': [50000, 60000],\n",
    "    'updated_at': ['2023-03-01', '2023-03-02']  # Example existing timestamps\n",
    "})\n",
    "\n",
    "# Simulated delta data (replace with your actual delta data)\n",
    "delta_data = pd.DataFrame({\n",
    "    'ID': [4, 5],\n",
    "    'Name': ['David', 'Eve'],\n",
    "    'Salary': [55000, 72000],\n",
    "    'updated_at': ['2023-03-01', '2023-03-04']  # Example delta timestamps\n",
    "})\n",
    "\n",
    "# Convert timestamps to datetime format\n",
    "existing_data['updated_at'] = pd.to_datetime(existing_data['updated_at'])\n",
    "delta_data['updated_at'] = pd.to_datetime(delta_data['updated_at'])\n",
    "\n",
    "# Filter delta data based on updated_at timestamp\n",
    "delta_data = delta_data[delta_data['updated_at'] > existing_data['updated_at'].max()]\n",
    "\n",
    "# Append delta data to the existing data\n",
    "combined_data = pd.concat([existing_data, delta_data], ignore_index=True)\n",
    "\n",
    "# Print the updated data (delta load)\n",
    "print(\"Combined Data (Delta Load):\\n\", combined_data)\n"
   ]
  },
  {
   "cell_type": "code",
   "execution_count": null,
   "metadata": {},
   "outputs": [],
   "source": []
  }
 ],
 "metadata": {
  "kernelspec": {
   "display_name": "venv",
   "language": "python",
   "name": "python3"
  },
  "language_info": {
   "codemirror_mode": {
    "name": "ipython",
    "version": 3
   },
   "file_extension": ".py",
   "mimetype": "text/x-python",
   "name": "python",
   "nbconvert_exporter": "python",
   "pygments_lexer": "ipython3",
   "version": "3.9.10"
  }
 },
 "nbformat": 4,
 "nbformat_minor": 2
}
