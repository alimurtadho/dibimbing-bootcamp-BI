{
 "cells": [
  {
   "cell_type": "code",
   "execution_count": null,
   "metadata": {},
   "outputs": [
    {
     "ename": "",
     "evalue": "",
     "output_type": "error",
     "traceback": [
      "\u001b[1;31mThe Kernel crashed while executing code in the current cell or a previous cell. \n",
      "\u001b[1;31mPlease review the code in the cell(s) to identify a possible cause of the failure. \n",
      "\u001b[1;31mClick <a href='https://aka.ms/vscodeJupyterKernelCrash'>here</a> for more info. \n",
      "\u001b[1;31mView Jupyter <a href='command:jupyter.viewOutput'>log</a> for further details."
     ]
    }
   ],
   "source": [
    "import pandas as pd \n",
    "from google.oauth2 import service_account\n",
    "from google.cloud import bigquery\n",
    "import datetime\n",
    "# import pytz"
   ]
  },
  {
   "cell_type": "code",
   "execution_count": null,
   "metadata": {},
   "outputs": [],
   "source": [
    "df_superstore = pd.read_csv(\"/Users/newuser/ali/project/kampus merdeka/repo_dibimbing/dataset/Data latihan sql/Sample - Store - Orders.csv\")"
   ]
  },
  {
   "cell_type": "code",
   "execution_count": null,
   "metadata": {},
   "outputs": [],
   "source": [
    "df_superstore"
   ]
  },
  {
   "cell_type": "code",
   "execution_count": null,
   "metadata": {},
   "outputs": [],
   "source": [
    "#config connect to bg\n",
    "key_path= \"your json key bigquery\"\n",
    "project_id=\"valid-gizmo-417606\"\n",
    "dataset_id = \"\"\n",
    "table=\"binar_superstore\"\n",
    "table_id=\"{}.{}.{}\".format(project_id, dataset_id, table)\n",
    "print(\"********* NAME OF TABLE IS\", table_id)"
   ]
  },
  {
   "cell_type": "code",
   "execution_count": null,
   "metadata": {},
   "outputs": [],
   "source": [
    "#config bq project bigquery free \n",
    "\n",
    "key_path= \"/Users/newuser/Downloads/bieng-ali-302d1582437b.json\"\n",
    "project_id=\"bieng-ali\"\n",
    "dataset_id = \"bootcamp_dibimbing\"\n",
    "table=\"superstore_order\"\n",
    "table_id=\"{}.{}.{}\".format(project_id, dataset_id, table)\n",
    "print(\"********* NAME OF TABLE IS\", table_id)"
   ]
  },
  {
   "cell_type": "code",
   "execution_count": null,
   "metadata": {},
   "outputs": [],
   "source": [
    "# df_superstore.columns = df_superstore.columns.str.lower()"
   ]
  },
  {
   "cell_type": "code",
   "execution_count": null,
   "metadata": {},
   "outputs": [],
   "source": [
    "# df_superstore.info()"
   ]
  },
  {
   "cell_type": "code",
   "execution_count": null,
   "metadata": {},
   "outputs": [],
   "source": [
    "# df_superstore.columns = df_superstore.columns.str.replace(' ', '_')\n",
    "# df_superstore.columns = df_superstore.columns.str.replace('-', '_')"
   ]
  },
  {
   "cell_type": "code",
   "execution_count": null,
   "metadata": {},
   "outputs": [],
   "source": [
    "credentials = service_account.Credentials.from_service_account_file(\n",
    "    key_path, scopes=[\"https://www.googleapis.com/auth/cloud-platform\"],\n",
    "    )"
   ]
  },
  {
   "cell_type": "code",
   "execution_count": null,
   "metadata": {},
   "outputs": [],
   "source": [
    "client = bigquery.Client(credentials=credentials, project=project_id)"
   ]
  },
  {
   "cell_type": "code",
   "execution_count": null,
   "metadata": {},
   "outputs": [],
   "source": [
    "job_config = bigquery.LoadJobConfig(\n",
    "    create_disposition='CREATE_IF_NEEDED',\n",
    "    write_disposition='WRITE_APPEND'\n",
    ")\n",
    "\n",
    "job = client.load_table_from_dataframe(\n",
    "    df_superstore, table_id, job_config=job_config\n",
    ")\n",
    "job.result()"
   ]
  },
  {
   "cell_type": "code",
   "execution_count": null,
   "metadata": {},
   "outputs": [],
   "source": [
    "# Construct a BigQuery client object.\n",
    "client = bigquery.Client(credentials=credentials, project=project_id)\n",
    "\n",
    "job_config = bigquery.LoadJobConfig(\n",
    "      \n",
    "      create_disposition='CREATE_IF_NEEDED',\n",
    "      write_disposition='WRITE_TRUNCATE'\n",
    ")\n",
    "\n",
    "job = client.load_table_from_dataframe(\n",
    "    df_superstore, table_id, job_config=job_config\n",
    ")  \n",
    "job.result()  \n",
    "\n",
    "data = client.get_table(table_id)\n",
    "print(data,'return insert bg')"
   ]
  },
  {
   "cell_type": "code",
   "execution_count": null,
   "metadata": {},
   "outputs": [],
   "source": []
  }
 ],
 "metadata": {
  "kernelspec": {
   "display_name": "venv",
   "language": "python",
   "name": "python3"
  },
  "language_info": {
   "codemirror_mode": {
    "name": "ipython",
    "version": 3
   },
   "file_extension": ".py",
   "mimetype": "text/x-python",
   "name": "python",
   "nbconvert_exporter": "python",
   "pygments_lexer": "ipython3",
   "version": "3.9.10"
  }
 },
 "nbformat": 4,
 "nbformat_minor": 2
}
